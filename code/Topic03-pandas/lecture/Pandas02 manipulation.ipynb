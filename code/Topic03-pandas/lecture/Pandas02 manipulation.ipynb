{
 "cells": [
  {
   "cell_type": "markdown",
   "id": "d59690a3",
   "metadata": {},
   "source": [
    "# Pandas Manipulating Data\n",
    "Most of this notebook came from   \n",
    "[the pandas Documentation](https://pandas.pydata.org/pandas-docs/stable/index.html)   \n",
    "and  \n",
    "(Real Python)[https://realpython.com/pandas-dataframe/#accessing-and-modifying-data]\n",
    "\n",
    "\n",
    "#### Import the pandas\n",
    "and set the sample data directory and filename"
   ]
  },
  {
   "cell_type": "code",
   "execution_count": 2,
   "id": "eb8b2602",
   "metadata": {},
   "outputs": [],
   "source": [
    "import pandas as pd"
   ]
  },
  {
   "cell_type": "code",
   "execution_count": null,
   "id": "47a486f2",
   "metadata": {},
   "outputs": [],
   "source": [
    "# just check the directory and file are there\n",
    "# !dir \"../data\""
   ]
  },
  {
   "cell_type": "code",
   "execution_count": 3,
   "id": "8eddaa87",
   "metadata": {},
   "outputs": [],
   "source": [
    "# up one levels to topic03 and then down into data\n",
    "datadir = \"../data/\"\n",
    "people_filename=datadir+\"people-100.csv\"\n",
    "timetable_filename = datadir+\"timetable.tsv\""
   ]
  },
  {
   "cell_type": "markdown",
   "id": "59c4026a",
   "metadata": {},
   "source": [
    "#### the timetable data\n",
    "this is real anolymised data is a tab seperated format\n",
    "<code>df = pd.read_csv(file, sep=\"\\t\")</code>\n",
    "because it is real it has missing data and some data is that is in different formats"
   ]
  },
  {
   "cell_type": "code",
   "execution_count": 4,
   "id": "e2ddf74a",
   "metadata": {},
   "outputs": [
    {
     "data": {
      "text/html": [
       "<div>\n",
       "<style scoped>\n",
       "    .dataframe tbody tr th:only-of-type {\n",
       "        vertical-align: middle;\n",
       "    }\n",
       "\n",
       "    .dataframe tbody tr th {\n",
       "        vertical-align: top;\n",
       "    }\n",
       "\n",
       "    .dataframe thead th {\n",
       "        text-align: right;\n",
       "    }\n",
       "</style>\n",
       "<table border=\"1\" class=\"dataframe\">\n",
       "  <thead>\n",
       "    <tr style=\"text-align: right;\">\n",
       "      <th></th>\n",
       "      <th>Department</th>\n",
       "      <th>Scheduled?</th>\n",
       "      <th>Name on sys</th>\n",
       "      <th>Name</th>\n",
       "      <th>Size</th>\n",
       "      <th>Module ID</th>\n",
       "      <th>Module</th>\n",
       "      <th>Duration</th>\n",
       "      <th>Named Availability</th>\n",
       "      <th>Number of Weeks</th>\n",
       "      <th>Staff (delimited)</th>\n",
       "      <th>Name of Type</th>\n",
       "      <th>Location Suitabilities</th>\n",
       "      <th>Locations</th>\n",
       "      <th>Student Sets</th>\n",
       "      <th>Teaching week pattern</th>\n",
       "    </tr>\n",
       "  </thead>\n",
       "  <tbody>\n",
       "    <tr>\n",
       "      <th>0</th>\n",
       "      <td>Mayo Campus</td>\n",
       "      <td>t</td>\n",
       "      <td>NURS06061 (General) and NURS06057 (Psych)  Pra...</td>\n",
       "      <td>NURS06061 (General) and NURS06057 (Psych)  Pra...</td>\n",
       "      <td>40</td>\n",
       "      <td>NURS06061 (General) and NURS06057 (Psych)</td>\n",
       "      <td>NURS06061 (General) and NURS06057 (Psych) Inte...</td>\n",
       "      <td>4</td>\n",
       "      <td>MY_Week24 N2bii</td>\n",
       "      <td>1</td>\n",
       "      <td>MacLeod, Julia</td>\n",
       "      <td>P</td>\n",
       "      <td>MY_SR_Any-Flat</td>\n",
       "      <td>NaN</td>\n",
       "      <td>NaN</td>\n",
       "      <td>0000000000000000000000010000000000000000000000...</td>\n",
       "    </tr>\n",
       "    <tr>\n",
       "      <th>1</th>\n",
       "      <td>Mayo Campus</td>\n",
       "      <td>t</td>\n",
       "      <td>NURS06060 Recovery Orientated care in mental h...</td>\n",
       "      <td>NURS06060 Recovery Orientated care in mental h...</td>\n",
       "      <td>18</td>\n",
       "      <td>NURS06060</td>\n",
       "      <td>NURS06060 Recovery Orientated care in mental h...</td>\n",
       "      <td>3</td>\n",
       "      <td>MY_a sem1</td>\n",
       "      <td>12</td>\n",
       "      <td>Edmunds, Colin</td>\n",
       "      <td>OL</td>\n",
       "      <td>NaN</td>\n",
       "      <td>NaN</td>\n",
       "      <td>MY_SP_DIGI 1</td>\n",
       "      <td>0000111111111111000000000000000000000000000000...</td>\n",
       "    </tr>\n",
       "    <tr>\n",
       "      <th>2</th>\n",
       "      <td>Mayo Campus</td>\n",
       "      <td>t</td>\n",
       "      <td>ENVI07011-Nursing Learning to Learn-Nursing  S...</td>\n",
       "      <td>ENVI07011-Nursing Learning to Learn-Nursing G</td>\n",
       "      <td>32</td>\n",
       "      <td>ENVI07011</td>\n",
       "      <td>ENVI07011 LEARNING AND INNOVATION SKILLS (Nurs...</td>\n",
       "      <td>2</td>\n",
       "      <td>MY__N_2 abc</td>\n",
       "      <td>7</td>\n",
       "      <td>Carr, Isaac</td>\n",
       "      <td>OL</td>\n",
       "      <td>MY_SR_AnyAll+art</td>\n",
       "      <td>NaN</td>\n",
       "      <td>NURS_GA_SGENC_H080100 A/NURS_GA_SGENC_H080100 ...</td>\n",
       "      <td>0000000000000000000011111110000000000000000000...</td>\n",
       "    </tr>\n",
       "  </tbody>\n",
       "</table>\n",
       "</div>"
      ],
      "text/plain": [
       "    Department Scheduled?                                        Name on sys  \\\n",
       "0  Mayo Campus          t  NURS06061 (General) and NURS06057 (Psych)  Pra...   \n",
       "1  Mayo Campus          t  NURS06060 Recovery Orientated care in mental h...   \n",
       "2  Mayo Campus          t  ENVI07011-Nursing Learning to Learn-Nursing  S...   \n",
       "\n",
       "                                                Name  Size  \\\n",
       "0  NURS06061 (General) and NURS06057 (Psych)  Pra...    40   \n",
       "1  NURS06060 Recovery Orientated care in mental h...    18   \n",
       "2      ENVI07011-Nursing Learning to Learn-Nursing G    32   \n",
       "\n",
       "                                   Module ID  \\\n",
       "0  NURS06061 (General) and NURS06057 (Psych)   \n",
       "1                                  NURS06060   \n",
       "2                                  ENVI07011   \n",
       "\n",
       "                                              Module  Duration  \\\n",
       "0  NURS06061 (General) and NURS06057 (Psych) Inte...         4   \n",
       "1  NURS06060 Recovery Orientated care in mental h...         3   \n",
       "2  ENVI07011 LEARNING AND INNOVATION SKILLS (Nurs...         2   \n",
       "\n",
       "  Named Availability  Number of Weeks Staff (delimited) Name of Type  \\\n",
       "0    MY_Week24 N2bii                1    MacLeod, Julia            P   \n",
       "1          MY_a sem1               12    Edmunds, Colin           OL   \n",
       "2        MY__N_2 abc                7       Carr, Isaac           OL   \n",
       "\n",
       "  Location Suitabilities Locations  \\\n",
       "0         MY_SR_Any-Flat       NaN   \n",
       "1                    NaN       NaN   \n",
       "2       MY_SR_AnyAll+art       NaN   \n",
       "\n",
       "                                        Student Sets  \\\n",
       "0                                                NaN   \n",
       "1                                       MY_SP_DIGI 1   \n",
       "2  NURS_GA_SGENC_H080100 A/NURS_GA_SGENC_H080100 ...   \n",
       "\n",
       "                               Teaching week pattern  \n",
       "0  0000000000000000000000010000000000000000000000...  \n",
       "1  0000111111111111000000000000000000000000000000...  \n",
       "2  0000000000000000000011111110000000000000000000...  "
      ]
     },
     "execution_count": 4,
     "metadata": {},
     "output_type": "execute_result"
    }
   ],
   "source": [
    "df= pd.read_csv(timetable_filename, sep=\"\\t\")\n",
    "df.head(3)"
   ]
  },
  {
   "cell_type": "markdown",
   "id": "ed77b9ec",
   "metadata": {},
   "source": [
    "#### selecting particular rows\n",
    "<code>df.iloc[]</code> <code>df.loc[]</code>\n",
    "\n",
    "\n",
    "in these examples loc and iloc return the same\n"
   ]
  },
  {
   "cell_type": "code",
   "execution_count": 6,
   "id": "059daaac",
   "metadata": {
    "scrolled": true
   },
   "outputs": [
    {
     "data": {
      "text/html": [
       "<div>\n",
       "<style scoped>\n",
       "    .dataframe tbody tr th:only-of-type {\n",
       "        vertical-align: middle;\n",
       "    }\n",
       "\n",
       "    .dataframe tbody tr th {\n",
       "        vertical-align: top;\n",
       "    }\n",
       "\n",
       "    .dataframe thead th {\n",
       "        text-align: right;\n",
       "    }\n",
       "</style>\n",
       "<table border=\"1\" class=\"dataframe\">\n",
       "  <thead>\n",
       "    <tr style=\"text-align: right;\">\n",
       "      <th></th>\n",
       "      <th>Staff (delimited)</th>\n",
       "    </tr>\n",
       "  </thead>\n",
       "  <tbody>\n",
       "    <tr>\n",
       "      <th>42</th>\n",
       "      <td>Carr, Connor/Marshall, Vanessa</td>\n",
       "    </tr>\n",
       "    <tr>\n",
       "      <th>44</th>\n",
       "      <td>Carr, Connor/Marshall, Vanessa</td>\n",
       "    </tr>\n",
       "  </tbody>\n",
       "</table>\n",
       "</div>"
      ],
      "text/plain": [
       "                 Staff (delimited)\n",
       "42  Carr, Connor/Marshall, Vanessa\n",
       "44  Carr, Connor/Marshall, Vanessa"
      ]
     },
     "execution_count": 6,
     "metadata": {},
     "output_type": "execute_result"
    }
   ],
   "source": [
    "#df.iloc[40:50]  # returns rows 40 to 50\n",
    "#df.loc[[42,44]]  # returns rows 42 and 44\n",
    "df.loc[[42,44],['Staff (delimited)']]  ## only return the staff column"
   ]
  },
  {
   "cell_type": "markdown",
   "id": "abbfc62f",
   "metadata": {},
   "source": [
    "##### a more complicated example  \n",
    "Find all the rows which have mulitple staff"
   ]
  },
  {
   "cell_type": "code",
   "execution_count": 9,
   "id": "92284fa0",
   "metadata": {},
   "outputs": [
    {
     "ename": "ValueError",
     "evalue": "Cannot mask with non-boolean array containing NA / NaN values",
     "output_type": "error",
     "traceback": [
      "\u001b[1;31m---------------------------------------------------------------------------\u001b[0m",
      "\u001b[1;31mValueError\u001b[0m                                Traceback (most recent call last)",
      "Cell \u001b[1;32mIn[9], line 1\u001b[0m\n\u001b[1;32m----> 1\u001b[0m df[df[\u001b[38;5;124m'\u001b[39m\u001b[38;5;124mStaff (delimited)\u001b[39m\u001b[38;5;124m'\u001b[39m]\u001b[38;5;241m.\u001b[39mstr\u001b[38;5;241m.\u001b[39mcontains(\u001b[38;5;124m'\u001b[39m\u001b[38;5;124m/\u001b[39m\u001b[38;5;124m'\u001b[39m)]\n",
      "File \u001b[1;32mc:\\Users\\curleys\\AppData\\Local\\anaconda3\\Lib\\site-packages\\pandas\\core\\frame.py:4092\u001b[0m, in \u001b[0;36mDataFrame.__getitem__\u001b[1;34m(self, key)\u001b[0m\n\u001b[0;32m   4089\u001b[0m     \u001b[38;5;28;01mreturn\u001b[39;00m \u001b[38;5;28mself\u001b[39m\u001b[38;5;241m.\u001b[39mwhere(key)\n\u001b[0;32m   4091\u001b[0m \u001b[38;5;66;03m# Do we have a (boolean) 1d indexer?\u001b[39;00m\n\u001b[1;32m-> 4092\u001b[0m \u001b[38;5;28;01mif\u001b[39;00m com\u001b[38;5;241m.\u001b[39mis_bool_indexer(key):\n\u001b[0;32m   4093\u001b[0m     \u001b[38;5;28;01mreturn\u001b[39;00m \u001b[38;5;28mself\u001b[39m\u001b[38;5;241m.\u001b[39m_getitem_bool_array(key)\n\u001b[0;32m   4095\u001b[0m \u001b[38;5;66;03m# We are left with two options: a single key, and a collection of keys,\u001b[39;00m\n\u001b[0;32m   4096\u001b[0m \u001b[38;5;66;03m# We interpret tuples as collections only for non-MultiIndex\u001b[39;00m\n",
      "File \u001b[1;32mc:\\Users\\curleys\\AppData\\Local\\anaconda3\\Lib\\site-packages\\pandas\\core\\common.py:136\u001b[0m, in \u001b[0;36mis_bool_indexer\u001b[1;34m(key)\u001b[0m\n\u001b[0;32m    132\u001b[0m     na_msg \u001b[38;5;241m=\u001b[39m \u001b[38;5;124m\"\u001b[39m\u001b[38;5;124mCannot mask with non-boolean array containing NA / NaN values\u001b[39m\u001b[38;5;124m\"\u001b[39m\n\u001b[0;32m    133\u001b[0m     \u001b[38;5;28;01mif\u001b[39;00m lib\u001b[38;5;241m.\u001b[39mis_bool_array(key_array, skipna\u001b[38;5;241m=\u001b[39m\u001b[38;5;28;01mTrue\u001b[39;00m):\n\u001b[0;32m    134\u001b[0m         \u001b[38;5;66;03m# Don't raise on e.g. [\"A\", \"B\", np.nan], see\u001b[39;00m\n\u001b[0;32m    135\u001b[0m         \u001b[38;5;66;03m#  test_loc_getitem_list_of_labels_categoricalindex_with_na\u001b[39;00m\n\u001b[1;32m--> 136\u001b[0m         \u001b[38;5;28;01mraise\u001b[39;00m \u001b[38;5;167;01mValueError\u001b[39;00m(na_msg)\n\u001b[0;32m    137\u001b[0m     \u001b[38;5;28;01mreturn\u001b[39;00m \u001b[38;5;28;01mFalse\u001b[39;00m\n\u001b[0;32m    138\u001b[0m \u001b[38;5;28;01mreturn\u001b[39;00m \u001b[38;5;28;01mTrue\u001b[39;00m\n",
      "\u001b[1;31mValueError\u001b[0m: Cannot mask with non-boolean array containing NA / NaN values"
     ]
    }
   ],
   "source": [
    "df[df['Staff (delimited)'].str.contains('/')]\n",
    "#cleandf= df.fillna(value=' ')\n",
    "#cleandf[cleandf['Staff (delimited)'].str.contains('/')]"
   ]
  },
  {
   "cell_type": "markdown",
   "id": "009cfa80",
   "metadata": {},
   "source": [
    "#### drop specific rows\n",
    "\n",
    "<code>df.drop()</code>"
   ]
  },
  {
   "cell_type": "code",
   "execution_count": 10,
   "id": "c4a30864",
   "metadata": {},
   "outputs": [
    {
     "data": {
      "text/html": [
       "<div>\n",
       "<style scoped>\n",
       "    .dataframe tbody tr th:only-of-type {\n",
       "        vertical-align: middle;\n",
       "    }\n",
       "\n",
       "    .dataframe tbody tr th {\n",
       "        vertical-align: top;\n",
       "    }\n",
       "\n",
       "    .dataframe thead th {\n",
       "        text-align: right;\n",
       "    }\n",
       "</style>\n",
       "<table border=\"1\" class=\"dataframe\">\n",
       "  <thead>\n",
       "    <tr style=\"text-align: right;\">\n",
       "      <th></th>\n",
       "      <th>Department</th>\n",
       "      <th>Scheduled?</th>\n",
       "      <th>Name on sys</th>\n",
       "      <th>Name</th>\n",
       "      <th>Size</th>\n",
       "      <th>Module ID</th>\n",
       "      <th>Module</th>\n",
       "      <th>Duration</th>\n",
       "      <th>Named Availability</th>\n",
       "      <th>Number of Weeks</th>\n",
       "      <th>Staff (delimited)</th>\n",
       "      <th>Name of Type</th>\n",
       "      <th>Location Suitabilities</th>\n",
       "      <th>Locations</th>\n",
       "      <th>Student Sets</th>\n",
       "      <th>Teaching week pattern</th>\n",
       "    </tr>\n",
       "  </thead>\n",
       "  <tbody>\n",
       "    <tr>\n",
       "      <th>0</th>\n",
       "      <td>Mayo Campus</td>\n",
       "      <td>t</td>\n",
       "      <td>NURS06061 (General) and NURS06057 (Psych)  Pra...</td>\n",
       "      <td>NURS06061 (General) and NURS06057 (Psych)  Pra...</td>\n",
       "      <td>40</td>\n",
       "      <td>NURS06061 (General) and NURS06057 (Psych)</td>\n",
       "      <td>NURS06061 (General) and NURS06057 (Psych) Inte...</td>\n",
       "      <td>4</td>\n",
       "      <td>MY_Week24 N2bii</td>\n",
       "      <td>1</td>\n",
       "      <td>MacLeod, Julia</td>\n",
       "      <td>P</td>\n",
       "      <td>MY_SR_Any-Flat</td>\n",
       "      <td>NaN</td>\n",
       "      <td>NaN</td>\n",
       "      <td>0000000000000000000000010000000000000000000000...</td>\n",
       "    </tr>\n",
       "    <tr>\n",
       "      <th>1</th>\n",
       "      <td>Mayo Campus</td>\n",
       "      <td>t</td>\n",
       "      <td>NURS06060 Recovery Orientated care in mental h...</td>\n",
       "      <td>NURS06060 Recovery Orientated care in mental h...</td>\n",
       "      <td>18</td>\n",
       "      <td>NURS06060</td>\n",
       "      <td>NURS06060 Recovery Orientated care in mental h...</td>\n",
       "      <td>3</td>\n",
       "      <td>MY_a sem1</td>\n",
       "      <td>12</td>\n",
       "      <td>Edmunds, Colin</td>\n",
       "      <td>OL</td>\n",
       "      <td>NaN</td>\n",
       "      <td>NaN</td>\n",
       "      <td>MY_SP_DIGI 1</td>\n",
       "      <td>0000111111111111000000000000000000000000000000...</td>\n",
       "    </tr>\n",
       "    <tr>\n",
       "      <th>2</th>\n",
       "      <td>Mayo Campus</td>\n",
       "      <td>t</td>\n",
       "      <td>ENVI07011-Nursing Learning to Learn-Nursing  S...</td>\n",
       "      <td>ENVI07011-Nursing Learning to Learn-Nursing G</td>\n",
       "      <td>32</td>\n",
       "      <td>ENVI07011</td>\n",
       "      <td>ENVI07011 LEARNING AND INNOVATION SKILLS (Nurs...</td>\n",
       "      <td>2</td>\n",
       "      <td>MY__N_2 abc</td>\n",
       "      <td>7</td>\n",
       "      <td>Carr, Isaac</td>\n",
       "      <td>OL</td>\n",
       "      <td>MY_SR_AnyAll+art</td>\n",
       "      <td>NaN</td>\n",
       "      <td>NURS_GA_SGENC_H080100 A/NURS_GA_SGENC_H080100 ...</td>\n",
       "      <td>0000000000000000000011111110000000000000000000...</td>\n",
       "    </tr>\n",
       "    <tr>\n",
       "      <th>3</th>\n",
       "      <td>Mayo Campus</td>\n",
       "      <td>t</td>\n",
       "      <td>LAWL08017 Building and Managing Interpersonal ...</td>\n",
       "      <td>LAWL08017 Building and Managing Interpersonal ...</td>\n",
       "      <td>0</td>\n",
       "      <td>LAWL08017</td>\n",
       "      <td>LAWL08017 Building and Managing Interpersonal ...</td>\n",
       "      <td>3</td>\n",
       "      <td>MY_DIGI sem1</td>\n",
       "      <td>3</td>\n",
       "      <td>Jones, James</td>\n",
       "      <td>L</td>\n",
       "      <td>NaN</td>\n",
       "      <td>NaN</td>\n",
       "      <td>MY_SP_DIGI 1</td>\n",
       "      <td>0100010000100000000000000000000000000000000000...</td>\n",
       "    </tr>\n",
       "  </tbody>\n",
       "</table>\n",
       "</div>"
      ],
      "text/plain": [
       "    Department Scheduled?                                        Name on sys  \\\n",
       "0  Mayo Campus          t  NURS06061 (General) and NURS06057 (Psych)  Pra...   \n",
       "1  Mayo Campus          t  NURS06060 Recovery Orientated care in mental h...   \n",
       "2  Mayo Campus          t  ENVI07011-Nursing Learning to Learn-Nursing  S...   \n",
       "3  Mayo Campus          t  LAWL08017 Building and Managing Interpersonal ...   \n",
       "\n",
       "                                                Name  Size  \\\n",
       "0  NURS06061 (General) and NURS06057 (Psych)  Pra...    40   \n",
       "1  NURS06060 Recovery Orientated care in mental h...    18   \n",
       "2      ENVI07011-Nursing Learning to Learn-Nursing G    32   \n",
       "3  LAWL08017 Building and Managing Interpersonal ...     0   \n",
       "\n",
       "                                   Module ID  \\\n",
       "0  NURS06061 (General) and NURS06057 (Psych)   \n",
       "1                                  NURS06060   \n",
       "2                                  ENVI07011   \n",
       "3                                  LAWL08017   \n",
       "\n",
       "                                              Module  Duration  \\\n",
       "0  NURS06061 (General) and NURS06057 (Psych) Inte...         4   \n",
       "1  NURS06060 Recovery Orientated care in mental h...         3   \n",
       "2  ENVI07011 LEARNING AND INNOVATION SKILLS (Nurs...         2   \n",
       "3  LAWL08017 Building and Managing Interpersonal ...         3   \n",
       "\n",
       "  Named Availability  Number of Weeks Staff (delimited) Name of Type  \\\n",
       "0    MY_Week24 N2bii                1    MacLeod, Julia            P   \n",
       "1          MY_a sem1               12    Edmunds, Colin           OL   \n",
       "2        MY__N_2 abc                7       Carr, Isaac           OL   \n",
       "3       MY_DIGI sem1                3      Jones, James            L   \n",
       "\n",
       "  Location Suitabilities Locations  \\\n",
       "0         MY_SR_Any-Flat       NaN   \n",
       "1                    NaN       NaN   \n",
       "2       MY_SR_AnyAll+art       NaN   \n",
       "3                    NaN       NaN   \n",
       "\n",
       "                                        Student Sets  \\\n",
       "0                                                NaN   \n",
       "1                                       MY_SP_DIGI 1   \n",
       "2  NURS_GA_SGENC_H080100 A/NURS_GA_SGENC_H080100 ...   \n",
       "3                                       MY_SP_DIGI 1   \n",
       "\n",
       "                               Teaching week pattern  \n",
       "0  0000000000000000000000010000000000000000000000...  \n",
       "1  0000111111111111000000000000000000000000000000...  \n",
       "2  0000000000000000000011111110000000000000000000...  \n",
       "3  0100010000100000000000000000000000000000000000...  "
      ]
     },
     "execution_count": 10,
     "metadata": {},
     "output_type": "execute_result"
    }
   ],
   "source": [
    "df.drop([1,3])\n",
    "df.head(4)"
   ]
  },
  {
   "cell_type": "markdown",
   "id": "33031994",
   "metadata": {},
   "source": [
    "Hold on that did not drop anything\n",
    "<code>inplace</code> parameter\n",
    "of make a dataframe equal it.\n"
   ]
  },
  {
   "cell_type": "code",
   "execution_count": null,
   "id": "5d633794",
   "metadata": {
    "scrolled": true
   },
   "outputs": [],
   "source": [
    "df.drop([1,3], inplace=True)\n",
    "#df= df.drop([1,3])\n",
    "df.head(4)"
   ]
  },
  {
   "cell_type": "code",
   "execution_count": null,
   "id": "805fd5bf",
   "metadata": {
    "scrolled": true
   },
   "outputs": [],
   "source": [
    "df.iloc[[2,4]]"
   ]
  },
  {
   "cell_type": "code",
   "execution_count": null,
   "id": "0849ca34",
   "metadata": {},
   "outputs": [],
   "source": [
    "df.loc[[2,4]]"
   ]
  },
  {
   "cell_type": "markdown",
   "id": "277c708f",
   "metadata": {},
   "source": [
    "### make new columns\n",
    "any thing you can do with numpy you can do with PANDAS series\n",
    "eg multiply two columns"
   ]
  },
  {
   "cell_type": "code",
   "execution_count": null,
   "id": "90c6340b",
   "metadata": {},
   "outputs": [],
   "source": [
    "df['total_hours'] = df['Duration'] * df['Number of Weeks']\n",
    "df.head(3)"
   ]
  },
  {
   "cell_type": "code",
   "execution_count": null,
   "id": "71138d66",
   "metadata": {
    "scrolled": true
   },
   "outputs": [],
   "source": [
    "people_df = pd.read_csv(people_filename)\n",
    "people_df.head(3)"
   ]
  },
  {
   "cell_type": "markdown",
   "id": "ec7daad8",
   "metadata": {},
   "source": [
    "to get the email domains"
   ]
  },
  {
   "cell_type": "code",
   "execution_count": null,
   "id": "2e274d27",
   "metadata": {
    "scrolled": false
   },
   "outputs": [],
   "source": [
    "people_df['domain'] = people_df['Email'].str.split('@').str[1]\n",
    "people_df.head(3)"
   ]
  },
  {
   "cell_type": "markdown",
   "id": "649822f5",
   "metadata": {},
   "source": [
    "How would you make a pie chart for the email domains"
   ]
  },
  {
   "cell_type": "code",
   "execution_count": null,
   "id": "65368152",
   "metadata": {},
   "outputs": [],
   "source": []
  }
 ],
 "metadata": {
  "kernelspec": {
   "display_name": "base",
   "language": "python",
   "name": "python3"
  },
  "language_info": {
   "codemirror_mode": {
    "name": "ipython",
    "version": 3
   },
   "file_extension": ".py",
   "mimetype": "text/x-python",
   "name": "python",
   "nbconvert_exporter": "python",
   "pygments_lexer": "ipython3",
   "version": "3.12.4"
  }
 },
 "nbformat": 4,
 "nbformat_minor": 5
}

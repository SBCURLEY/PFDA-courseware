{
 "cells": [
  {
   "cell_type": "markdown",
   "metadata": {},
   "source": [
    "# Regular expressions in python\n",
    "\n"
   ]
  },
  {
   "cell_type": "code",
   "execution_count": null,
   "metadata": {},
   "outputs": [],
   "source": []
  },
  {
   "cell_type": "markdown",
   "metadata": {},
   "source": [
    "Sample strings to for the examples\n"
   ]
  },
  {
   "cell_type": "code",
   "execution_count": 4,
   "metadata": {},
   "outputs": [],
   "source": [
    "lowercase_alphabet = \"abcdefghijklmnopqrstuvwxyz\"\n",
    "uppercase_alphabet = lowercase_alphabet.upper()\n",
    "numbers = \"1234567890\"\n",
    "sentence = \"The Quick Brown Fox Jumps Over The Lazy Dog\"\n",
    "paragraph = \"\"\"Once apon a\n",
    "            time there lived\n",
    "            3 bears. \n",
    "            They all owed the bank $1000. \n",
    "            Ouch!\"\"\"\n",
    "website = \"www.medium.com\"\n",
    "\n",
    "special_characters = \"[\\^$.|?*+()\""
   ]
  },
  {
   "cell_type": "markdown",
   "metadata": {},
   "source": [
    "### built in string functions we have already used\n",
    "\n",
    "| Function | Explanation |\n",
    "|:---|:---|\n",
    "| `string.split(char)`  | Returns a list of strings that were delimited by 'char'  |\n",
    "| `string.find(other_string)`  | Returns the index of the other string |\n",
    "| `string[index1:index2:freq]`  | split into substrings at location (we coverd this in PANDS)  |\n",
    "| `string.isdecimal()`   |\tReturns True if all characters in the string are decimals  |\n",
    "  "
   ]
  },
  {
   "cell_type": "code",
   "execution_count": null,
   "metadata": {},
   "outputs": [],
   "source": []
  },
  {
   "cell_type": "markdown",
   "metadata": {},
   "source": [
    "\n",
    "## Python regex functions in module re\n",
    "Functions in the re module\n",
    "\n",
    "| Function | Explanation |\n",
    "|:---|:---|\n",
    "| `findall(pattern, sting)`  | Returns a list containing all matches  |\n",
    "| `search(pattern, sting)`  | Returns a Match Object if there is a match anywhere in the string  |\n",
    "| `sub(pattern, replacement, string)`  | replaces one or many matches (kinda like `sed`)  |\n",
    "\n",
    "\n",
    "\n",
    "## import the module"
   ]
  },
  {
   "cell_type": "code",
   "execution_count": 2,
   "metadata": {},
   "outputs": [],
   "source": [
    "import re"
   ]
  },
  {
   "cell_type": "markdown",
   "metadata": {},
   "source": [
    "## Matching explicit characters\n",
    "\n",
    "\n",
    "In order to match characters explicitly, all you need to do is type what you'd like to find. Similarly to `ctrl+f` on any application.\n",
    "\n"
   ]
  },
  {
   "cell_type": "code",
   "execution_count": null,
   "metadata": {
    "scrolled": true
   },
   "outputs": [],
   "source": [
    "pattern = \"Quick\"\n",
    "re.findall(pattern, sentence)"
   ]
  },
  {
   "cell_type": "code",
   "execution_count": null,
   "metadata": {
    "scrolled": true
   },
   "outputs": [],
   "source": [
    "pattern = \"quick\"\n",
    "re.findall(pattern, sentence)"
   ]
  },
  {
   "cell_type": "code",
   "execution_count": null,
   "metadata": {},
   "outputs": [],
   "source": [
    "pattern = \"quick\"\n",
    "re.findall(pattern, sentence,re.IGNORECASE)"
   ]
  },
  {
   "cell_type": "markdown",
   "metadata": {},
   "source": [
    "Search a match object that says what was matched and where"
   ]
  },
  {
   "cell_type": "code",
   "execution_count": null,
   "metadata": {},
   "outputs": [],
   "source": [
    "pattern = \"bears\"\n",
    "re.search(pattern, paragraph)"
   ]
  },
  {
   "cell_type": "markdown",
   "metadata": {},
   "source": [
    "## Matching literal characters\n",
    "\n",
    "In order to match any literal characters ( *any character except `[\\^$.|?*+()`* ) use a backslash `\\` followed by the character ."
   ]
  },
  {
   "cell_type": "code",
   "execution_count": 5,
   "metadata": {},
   "outputs": [
    {
     "data": {
      "text/plain": [
       "['www.medium.com']"
      ]
     },
     "execution_count": 5,
     "metadata": {},
     "output_type": "execute_result"
    }
   ],
   "source": [
    "pattern =\"www\\.medium\\.com\" \n",
    "re.findall(pattern, website)"
   ]
  },
  {
   "cell_type": "markdown",
   "metadata": {},
   "source": [
    "## Matching by pattern\n",
    "There are a lot of ways we can match a pattern. Regex has its own syntax so we could pick and choose how we want our patterns to look like.\n",
    "\n",
    "### Character Classes\n",
    "| Class | Explanation |    \n",
    "|:---|:---|   \n",
    "| . | any character except newline |   \n",
    "| \\w \\d \\s | word (ie [0-9a-zA-Z], digit, whitespace |  \n",
    "| \\W \\D \\S | not word, digit, whitespace |  \n",
    "| [abc] | any of a, b, or c | \n",
    "| [^abc] | note a, b, or c |\n",
    "| [a-g] | characters between a & g | \n",
    "\n",
    "For example find the numbers in the paragragh"
   ]
  },
  {
   "cell_type": "code",
   "execution_count": null,
   "metadata": {},
   "outputs": [],
   "source": [
    "pattern =\"\\d\"  \n",
    "re.findall(pattern, paragraph)"
   ]
  },
  {
   "cell_type": "markdown",
   "metadata": {},
   "source": [
    "As opposed to every word character"
   ]
  },
  {
   "cell_type": "code",
   "execution_count": null,
   "metadata": {},
   "outputs": [],
   "source": [
    "pattern =\"\\w\"  \n",
    "re.findall(pattern, paragraph)"
   ]
  },
  {
   "cell_type": "markdown",
   "metadata": {},
   "source": [
    "### Anchors\n",
    "| Class | Explanation |\n",
    "|:---|:---|\n",
    "| ^abc$ | start / end of the string |\n",
    "| \\b | Word boundry (I could not get this to work with finall) |"
   ]
  },
  {
   "cell_type": "code",
   "execution_count": null,
   "metadata": {},
   "outputs": [],
   "source": [
    "pattern = \"b\"\n",
    "print(re.findall(pattern, lowercase_alphabet))\n",
    "pattern = \"^b\"\n",
    "print(re.findall(pattern, lowercase_alphabet))\n",
    "pattern = \"b$\"\n",
    "print(re.findall(pattern, lowercase_alphabet))\n",
    "pattern = \"z$\"\n",
    "print(re.findall(pattern, lowercase_alphabet))"
   ]
  },
  {
   "cell_type": "markdown",
   "metadata": {},
   "source": [
    "### Escaped Characters\n",
    "| Class | Explanation |\n",
    "|:---|:---|\n",
    "| \\\\. \\\\* \\\\\\ | escaped special characters |\n",
    "| \\\\t \\\\n \\\\r | tab, linefeed, carriage return |\n",
    "\n",
    "### Groups\n",
    "| Class | Explanation |\n",
    "|:---|:---|\n",
    "| (abc) | capture group |\n",
    "| \\1 | backreference to group #1 |\n",
    "\n",
    "### Quantifiers & Alternation\n",
    "| Class | Explanation |\n",
    "|:---|:---|\n",
    "| a* a+ a? | 0 or more, 1 or more, 0 or 1 |\n",
    "| a{5} a{2,} | exactly five, two or more |\n",
    "| a{1,3} | between one & three |\n",
    "| a+? a{2,}? | match as few as possible |\n",
    "| ab\\|cd | match ab or cd |\n",
    "> [Tables from: regexr.com](https://regexr.com/)"
   ]
  },
  {
   "cell_type": "markdown",
   "metadata": {},
   "source": [
    "### Examples\n",
    "to find the words in the sentence\n",
    "`\\w` is a word character\n",
    "`{1,}` one or more times  \n",
    "or use `+`"
   ]
  },
  {
   "cell_type": "code",
   "execution_count": null,
   "metadata": {},
   "outputs": [],
   "source": [
    "re.findall(\"\\w{1,}\", sentence)"
   ]
  },
  {
   "cell_type": "code",
   "execution_count": null,
   "metadata": {},
   "outputs": [],
   "source": [
    "re.findall(\"\\w+\", sentence)"
   ]
  },
  {
   "cell_type": "code",
   "execution_count": null,
   "metadata": {},
   "outputs": [],
   "source": [
    "re.findall(\"\\w+\", paragraph)"
   ]
  },
  {
   "cell_type": "markdown",
   "metadata": {},
   "source": [
    "How about the telephone numbers. To find the properly formatted ones with a hyphen"
   ]
  },
  {
   "cell_type": "code",
   "execution_count": null,
   "metadata": {},
   "outputs": [],
   "source": [
    "phone_numbers = \"\"\"123-456-7890\n",
    "                    987.654.321 # an ip address\n",
    "                    234-567-8901\n",
    "                    654.321.987 # an ip address\n",
    "                    345-678-9012\n",
    "                    321.654.9784 # a phone number with a .\n",
    "                    456-789-012 # badly formatted\n",
    "                    999.666.333\n",
    "                    45678   # I don't know what this is !!\n",
    "                \"\"\"\n",
    "re.findall(\"\\d{3}\\-\\d{3}\\-\\d{4}\", phone_numbers)"
   ]
  },
  {
   "cell_type": "markdown",
   "metadata": {},
   "source": [
    "or a hphen or a dot"
   ]
  },
  {
   "cell_type": "code",
   "execution_count": null,
   "metadata": {
    "scrolled": false
   },
   "outputs": [],
   "source": [
    "re.findall(\"\\d{3}[\\-\\.]\\d{3}[\\-\\.]\\d{4}\", phone_numbers)"
   ]
  },
  {
   "cell_type": "markdown",
   "metadata": {},
   "source": [
    "### Messing\n",
    "This returns more than just the ip addressses  \n",
    "how would I fix it to return the only the ip addresses"
   ]
  },
  {
   "cell_type": "code",
   "execution_count": null,
   "metadata": {
    "scrolled": true
   },
   "outputs": [],
   "source": [
    "re.findall(\"\\d{3}[\\-\\.]\\d{3}[\\-\\.]\\d{3}\", phone_numbers)"
   ]
  },
  {
   "cell_type": "code",
   "execution_count": null,
   "metadata": {},
   "outputs": [],
   "source": []
  },
  {
   "cell_type": "markdown",
   "metadata": {},
   "source": []
  }
 ],
 "metadata": {
  "kernelspec": {
   "display_name": "Python 3 (ipykernel)",
   "language": "python",
   "name": "python3"
  },
  "language_info": {
   "codemirror_mode": {
    "name": "ipython",
    "version": 3
   },
   "file_extension": ".py",
   "mimetype": "text/x-python",
   "name": "python",
   "nbconvert_exporter": "python",
   "pygments_lexer": "ipython3",
   "version": "3.9.7"
  }
 },
 "nbformat": 4,
 "nbformat_minor": 2
}
